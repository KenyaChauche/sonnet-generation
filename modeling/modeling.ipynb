{
 "cells": [
  {
   "cell_type": "markdown",
   "metadata": {},
   "source": [
    "## Modeling\n"
   ]
  },
  {
   "cell_type": "markdown",
   "metadata": {},
   "source": [
    "#### Imports"
   ]
  },
  {
   "cell_type": "code",
   "execution_count": 32,
   "metadata": {},
   "outputs": [],
   "source": [
    "import pandas as pd\n",
    "import numpy as np\n",
    "\n",
    "from keras.models import Sequential\n",
    "from keras.layers import LSTM, Dense, Dropout\n",
    "from keras.preprocessing.text import Tokenizer, one_hot\n",
    "from keras.preprocessing.sequence import pad_sequences\n",
    "from keras.callbacks import EarlyStopping"
   ]
  },
  {
   "cell_type": "markdown",
   "metadata": {},
   "source": [
    "#### Data Read In and Preprocessing"
   ]
  },
  {
   "cell_type": "code",
   "execution_count": 70,
   "metadata": {},
   "outputs": [
    {
     "data": {
      "text/html": [
       "<div>\n",
       "<style scoped>\n",
       "    .dataframe tbody tr th:only-of-type {\n",
       "        vertical-align: middle;\n",
       "    }\n",
       "\n",
       "    .dataframe tbody tr th {\n",
       "        vertical-align: top;\n",
       "    }\n",
       "\n",
       "    .dataframe thead th {\n",
       "        text-align: right;\n",
       "    }\n",
       "</style>\n",
       "<table border=\"1\" class=\"dataframe\">\n",
       "  <thead>\n",
       "    <tr style=\"text-align: right;\">\n",
       "      <th></th>\n",
       "      <th>previous_word</th>\n",
       "      <th>one_word</th>\n",
       "      <th>one_word_next</th>\n",
       "      <th>two_word</th>\n",
       "      <th>two_word_next</th>\n",
       "      <th>three_word</th>\n",
       "      <th>three_word_next</th>\n",
       "    </tr>\n",
       "  </thead>\n",
       "  <tbody>\n",
       "    <tr>\n",
       "      <td>0</td>\n",
       "      <td>\\n</td>\n",
       "      <td>from</td>\n",
       "      <td>fairest</td>\n",
       "      <td>('from', 'fairest')</td>\n",
       "      <td>creatures</td>\n",
       "      <td>('from', 'fairest', 'creatures')</td>\n",
       "      <td>we</td>\n",
       "    </tr>\n",
       "    <tr>\n",
       "      <td>1</td>\n",
       "      <td>from</td>\n",
       "      <td>fairest</td>\n",
       "      <td>creatures</td>\n",
       "      <td>('fairest', 'creatures')</td>\n",
       "      <td>we</td>\n",
       "      <td>('fairest', 'creatures', 'we')</td>\n",
       "      <td>desire</td>\n",
       "    </tr>\n",
       "    <tr>\n",
       "      <td>2</td>\n",
       "      <td>fairest</td>\n",
       "      <td>creatures</td>\n",
       "      <td>we</td>\n",
       "      <td>('creatures', 'we')</td>\n",
       "      <td>desire</td>\n",
       "      <td>('creatures', 'we', 'desire')</td>\n",
       "      <td>increase</td>\n",
       "    </tr>\n",
       "    <tr>\n",
       "      <td>3</td>\n",
       "      <td>creatures</td>\n",
       "      <td>we</td>\n",
       "      <td>desire</td>\n",
       "      <td>('we', 'desire')</td>\n",
       "      <td>increase</td>\n",
       "      <td>('we', 'desire', 'increase')</td>\n",
       "      <td>,</td>\n",
       "    </tr>\n",
       "    <tr>\n",
       "      <td>4</td>\n",
       "      <td>we</td>\n",
       "      <td>desire</td>\n",
       "      <td>increase</td>\n",
       "      <td>('desire', 'increase')</td>\n",
       "      <td>,</td>\n",
       "      <td>('desire', 'increase', ',')</td>\n",
       "      <td>\\n</td>\n",
       "    </tr>\n",
       "    <tr>\n",
       "      <td>5</td>\n",
       "      <td>desire</td>\n",
       "      <td>increase</td>\n",
       "      <td>,</td>\n",
       "      <td>('increase', ',')</td>\n",
       "      <td>\\n</td>\n",
       "      <td>\\n</td>\n",
       "      <td>\\n</td>\n",
       "    </tr>\n",
       "    <tr>\n",
       "      <td>6</td>\n",
       "      <td>increase</td>\n",
       "      <td>,</td>\n",
       "      <td>\\n</td>\n",
       "      <td>\\n</td>\n",
       "      <td>\\n</td>\n",
       "      <td>\\n</td>\n",
       "      <td>\\n</td>\n",
       "    </tr>\n",
       "    <tr>\n",
       "      <td>7</td>\n",
       "      <td>\\n</td>\n",
       "      <td>that</td>\n",
       "      <td>thereby</td>\n",
       "      <td>('that', 'thereby')</td>\n",
       "      <td>beauty's</td>\n",
       "      <td>('that', 'thereby', \"beauty's\")</td>\n",
       "      <td>rose</td>\n",
       "    </tr>\n",
       "    <tr>\n",
       "      <td>8</td>\n",
       "      <td>that</td>\n",
       "      <td>thereby</td>\n",
       "      <td>beauty's</td>\n",
       "      <td>('thereby', \"beauty's\")</td>\n",
       "      <td>rose</td>\n",
       "      <td>('thereby', \"beauty's\", 'rose')</td>\n",
       "      <td>might</td>\n",
       "    </tr>\n",
       "    <tr>\n",
       "      <td>9</td>\n",
       "      <td>thereby</td>\n",
       "      <td>beauty's</td>\n",
       "      <td>rose</td>\n",
       "      <td>(\"beauty's\", 'rose')</td>\n",
       "      <td>might</td>\n",
       "      <td>(\"beauty's\", 'rose', 'might')</td>\n",
       "      <td>never</td>\n",
       "    </tr>\n",
       "  </tbody>\n",
       "</table>\n",
       "</div>"
      ],
      "text/plain": [
       "  previous_word   one_word  ...                        three_word three_word_next\n",
       "0            \\n       from  ...  ('from', 'fairest', 'creatures')              we\n",
       "1          from    fairest  ...    ('fairest', 'creatures', 'we')          desire\n",
       "2       fairest  creatures  ...     ('creatures', 'we', 'desire')        increase\n",
       "3     creatures         we  ...      ('we', 'desire', 'increase')               ,\n",
       "4            we     desire  ...       ('desire', 'increase', ',')              \\n\n",
       "5        desire   increase  ...                                \\n              \\n\n",
       "6      increase          ,  ...                                \\n              \\n\n",
       "7            \\n       that  ...   ('that', 'thereby', \"beauty's\")            rose\n",
       "8          that    thereby  ...   ('thereby', \"beauty's\", 'rose')           might\n",
       "9       thereby   beauty's  ...     (\"beauty's\", 'rose', 'might')           never\n",
       "\n",
       "[10 rows x 7 columns]"
      ]
     },
     "execution_count": 70,
     "metadata": {},
     "output_type": "execute_result"
    }
   ],
   "source": [
    "sequences = pd.read_csv(\"../data/word_sequences.csv\")\n",
    "\n",
    "sequences.head(10)"
   ]
  },
  {
   "cell_type": "code",
   "execution_count": 121,
   "metadata": {},
   "outputs": [],
   "source": [
    "three_word = []"
   ]
  },
  {
   "cell_type": "code",
   "execution_count": 122,
   "metadata": {},
   "outputs": [],
   "source": [
    "for x in sequences[\"three_word\"]: \n",
    "    three_word.append(x.replace(\"(\", \"\").replace(\")\", \"\").replace(\"'\", \"\").split(\" \"))\n",
    "    "
   ]
  },
  {
   "cell_type": "code",
   "execution_count": 123,
   "metadata": {},
   "outputs": [],
   "source": [
    "tokenizer = Tokenizer()\n",
    "tokenizer.fit_on_texts(three_word)"
   ]
  },
  {
   "cell_type": "code",
   "execution_count": 125,
   "metadata": {},
   "outputs": [],
   "source": [
    "three_word_vecs = tokenizer.texts_to_matrix(three_word)"
   ]
  },
  {
   "cell_type": "markdown",
   "metadata": {},
   "source": [
    "## TAKE THAT FORMATTING, YA BITCH"
   ]
  },
  {
   "cell_type": "code",
   "execution_count": null,
   "metadata": {},
   "outputs": [],
   "source": []
  }
 ],
 "metadata": {
  "kernelspec": {
   "display_name": "Python 3",
   "language": "python",
   "name": "python3"
  },
  "language_info": {
   "codemirror_mode": {
    "name": "ipython",
    "version": 3
   },
   "file_extension": ".py",
   "mimetype": "text/x-python",
   "name": "python",
   "nbconvert_exporter": "python",
   "pygments_lexer": "ipython3",
   "version": "3.7.4"
  }
 },
 "nbformat": 4,
 "nbformat_minor": 2
}
