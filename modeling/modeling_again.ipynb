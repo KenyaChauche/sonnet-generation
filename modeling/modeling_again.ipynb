{
 "cells": [
  {
   "cell_type": "markdown",
   "metadata": {},
   "source": [
    "## Modeling Again\n",
    "Because the first round was disastrous. "
   ]
  },
  {
   "cell_type": "markdown",
   "metadata": {},
   "source": [
    "#### Imports "
   ]
  },
  {
   "cell_type": "code",
   "execution_count": 1,
   "metadata": {},
   "outputs": [
    {
     "name": "stderr",
     "output_type": "stream",
     "text": [
      "Using TensorFlow backend.\n"
     ]
    }
   ],
   "source": [
    "import pandas as pd\n",
    "import string\n",
    "import re\n",
    "import numpy as np\n",
    "\n",
    "from keras.models import Sequential\n",
    "from keras.layers import Embedding, LSTM, Dense\n",
    "from keras.callbacks import EarlyStopping\n",
    "from keras.preprocessing.text import Tokenizer\n",
    "from keras.utils import to_categorical"
   ]
  },
  {
   "cell_type": "code",
   "execution_count": 2,
   "metadata": {},
   "outputs": [],
   "source": [
    "lines = pd.read_csv(\"../data/lines.csv\")"
   ]
  },
  {
   "cell_type": "markdown",
   "metadata": {},
   "source": [
    "#### Cleaning and Conglomerating Data "
   ]
  },
  {
   "cell_type": "code",
   "execution_count": 3,
   "metadata": {},
   "outputs": [],
   "source": [
    "lines_list = list(lines[\"line\"])"
   ]
  },
  {
   "cell_type": "code",
   "execution_count": 4,
   "metadata": {},
   "outputs": [],
   "source": [
    "text = \" newline \".join(lines_list)"
   ]
  },
  {
   "cell_type": "code",
   "execution_count": 5,
   "metadata": {},
   "outputs": [],
   "source": [
    "# strip -'s and other puncuation\n",
    "# capture only words, and lowercase all of them for simplicity in vocabulary of model \n",
    "\n",
    "text = text.replace(\"-\", \" \")\n",
    "text = text.replace(\"'\", \"\")\n",
    "\n",
    "tokens = re.findall(r\"\\w+\", text)\n",
    "\n",
    "tokens = [word.lower() for word in tokens]\n",
    "\n",
    "# keep newlines in -- attempt to train model for when to create new lines \n",
    "# for i in range(len(tokens)):  \n",
    "#     if tokens[i] == \"newline\": \n",
    "#         tokens[i] = \"\\n\" \n",
    "\n",
    "word_count = len(tokens)\n",
    "unique_words = len(set(tokens))"
   ]
  },
  {
   "cell_type": "code",
   "execution_count": 6,
   "metadata": {},
   "outputs": [],
   "source": [
    "length = 4 + 1\n",
    "\n",
    "sequences = list()\n",
    "for i in range(length, word_count): \n",
    "    seq = tokens[i - length : i]\n",
    "    line = \" \".join(seq)\n",
    "    sequences.append(line)"
   ]
  },
  {
   "cell_type": "code",
   "execution_count": 7,
   "metadata": {},
   "outputs": [
    {
     "data": {
      "text/plain": [
       "['from fairest creatures we desire',\n",
       " 'fairest creatures we desire increase',\n",
       " 'creatures we desire increase newline',\n",
       " 'we desire increase newline that',\n",
       " 'desire increase newline that thereby']"
      ]
     },
     "execution_count": 7,
     "metadata": {},
     "output_type": "execute_result"
    }
   ],
   "source": [
    "sequences[:5]"
   ]
  },
  {
   "cell_type": "markdown",
   "metadata": {},
   "source": [
    "#### Formatting Data "
   ]
  },
  {
   "cell_type": "code",
   "execution_count": 8,
   "metadata": {},
   "outputs": [],
   "source": [
    "tokenizer = Tokenizer()\n",
    "\n",
    "tokenizer.fit_on_texts(sequences)\n",
    "\n",
    "seqs_tokenizer = tokenizer.texts_to_sequences(sequences)"
   ]
  },
  {
   "cell_type": "code",
   "execution_count": 9,
   "metadata": {},
   "outputs": [
    {
     "data": {
      "text/plain": [
       "[[35, 513, 1367, 180, 217],\n",
       " [513, 1367, 180, 217, 515],\n",
       " [1367, 180, 217, 515, 1],\n",
       " [180, 217, 515, 1, 9],\n",
       " [217, 515, 1, 9, 873]]"
      ]
     },
     "execution_count": 9,
     "metadata": {},
     "output_type": "execute_result"
    }
   ],
   "source": [
    "seqs_tokenizer[:5]"
   ]
  },
  {
   "cell_type": "code",
   "execution_count": 10,
   "metadata": {},
   "outputs": [
    {
     "data": {
      "text/plain": [
       "3149"
      ]
     },
     "execution_count": 10,
     "metadata": {},
     "output_type": "execute_result"
    }
   ],
   "source": [
    "vocab_size = len(tokenizer.word_index) + 1\n",
    "vocab_size"
   ]
  },
  {
   "cell_type": "code",
   "execution_count": 11,
   "metadata": {},
   "outputs": [
    {
     "data": {
      "text/plain": [
       "4"
      ]
     },
     "execution_count": 11,
     "metadata": {},
     "output_type": "execute_result"
    }
   ],
   "source": [
    "# separate sequences into input (four word seq) and output (following word)\n",
    "\n",
    "seqs_arr = np.array(seqs_tokenizer)\n",
    "\n",
    "# changed some grammar to make it work \n",
    "X = seqs_arr[:, :-1]\n",
    "y = seqs_arr[:, -1]\n",
    "\n",
    "y = to_categorical(y, num_classes = vocab_size)\n",
    "\n",
    "seq_length = len(X[0])\n",
    "seq_length"
   ]
  },
  {
   "cell_type": "markdown",
   "metadata": {},
   "source": [
    "#### Modeling"
   ]
  },
  {
   "cell_type": "code",
   "execution_count": 12,
   "metadata": {},
   "outputs": [
    {
     "name": "stdout",
     "output_type": "stream",
     "text": [
      "Model: \"sequential_1\"\n",
      "_________________________________________________________________\n",
      "Layer (type)                 Output Shape              Param #   \n",
      "=================================================================\n",
      "embedding_1 (Embedding)      (None, 4, 100)            314900    \n",
      "_________________________________________________________________\n",
      "lstm_1 (LSTM)                (None, 4, 128)            117248    \n",
      "_________________________________________________________________\n",
      "lstm_2 (LSTM)                (None, 128)               131584    \n",
      "_________________________________________________________________\n",
      "dense_1 (Dense)              (None, 128)               16512     \n",
      "_________________________________________________________________\n",
      "dense_2 (Dense)              (None, 3149)              406221    \n",
      "=================================================================\n",
      "Total params: 986,465\n",
      "Trainable params: 986,465\n",
      "Non-trainable params: 0\n",
      "_________________________________________________________________\n"
     ]
    }
   ],
   "source": [
    "# create model \n",
    "\n",
    "model =  Sequential()\n",
    "\n",
    "model.add(Embedding(vocab_size, \n",
    "                    100, \n",
    "                    input_length = seq_length))\n",
    "model.add(LSTM(128, return_sequences = True))\n",
    "model.add(LSTM(128))\n",
    "model.add(Dense(128, \n",
    "                activation = \"relu\"))\n",
    "model.add(Dense(vocab_size, \n",
    "                activation = \"softmax\"))\n",
    "\n",
    "model.summary()"
   ]
  },
  {
   "cell_type": "code",
   "execution_count": 13,
   "metadata": {},
   "outputs": [
    {
     "name": "stderr",
     "output_type": "stream",
     "text": [
      "/opt/anaconda3/lib/python3.7/site-packages/tensorflow_core/python/framework/indexed_slices.py:433: UserWarning: Converting sparse IndexedSlices to a dense Tensor of unknown shape. This may consume a large amount of memory.\n",
      "  \"Converting sparse IndexedSlices to a dense Tensor of unknown shape. \"\n"
     ]
    },
    {
     "name": "stdout",
     "output_type": "stream",
     "text": [
      "Epoch 1/70\n",
      " - 10s - loss: 6.6109 - acc: 0.1079\n",
      "Epoch 2/70\n"
     ]
    },
    {
     "name": "stderr",
     "output_type": "stream",
     "text": [
      "/opt/anaconda3/lib/python3.7/site-packages/keras/callbacks/callbacks.py:846: RuntimeWarning: Early stopping conditioned on metric `val_loss` which is not available. Available metrics are: loss,acc\n",
      "  (self.monitor, ','.join(list(logs.keys()))), RuntimeWarning\n"
     ]
    },
    {
     "name": "stdout",
     "output_type": "stream",
     "text": [
      " - 8s - loss: 6.0974 - acc: 0.1091\n",
      "Epoch 3/70\n",
      " - 8s - loss: 6.0617 - acc: 0.1091\n",
      "Epoch 4/70\n",
      " - 8s - loss: 6.0231 - acc: 0.1091\n",
      "Epoch 5/70\n",
      " - 8s - loss: 5.9127 - acc: 0.1092\n",
      "Epoch 6/70\n",
      " - 8s - loss: 5.7854 - acc: 0.1163\n",
      "Epoch 7/70\n",
      " - 8s - loss: 5.6481 - acc: 0.1268\n",
      "Epoch 8/70\n",
      " - 8s - loss: 5.5058 - acc: 0.1332\n",
      "Epoch 9/70\n",
      " - 8s - loss: 5.3657 - acc: 0.1373\n",
      "Epoch 10/70\n",
      " - 8s - loss: 5.2359 - acc: 0.1395\n",
      "Epoch 11/70\n",
      " - 8s - loss: 5.1195 - acc: 0.1449\n",
      "Epoch 12/70\n",
      " - 8s - loss: 5.0103 - acc: 0.1457\n",
      "Epoch 13/70\n",
      " - 8s - loss: 4.9051 - acc: 0.1490\n",
      "Epoch 14/70\n",
      " - 9s - loss: 4.8010 - acc: 0.1525\n",
      "Epoch 15/70\n",
      " - 8s - loss: 4.6939 - acc: 0.1571\n",
      "Epoch 16/70\n",
      " - 8s - loss: 4.5764 - acc: 0.1623\n",
      "Epoch 17/70\n",
      " - 8s - loss: 4.4553 - acc: 0.1678\n",
      "Epoch 18/70\n",
      " - 8s - loss: 4.3231 - acc: 0.1748\n",
      "Epoch 19/70\n",
      " - 8s - loss: 4.1781 - acc: 0.1866\n",
      "Epoch 20/70\n",
      " - 8s - loss: 4.0390 - acc: 0.1926\n",
      "Epoch 21/70\n",
      " - 8s - loss: 3.8976 - acc: 0.2021\n",
      "Epoch 22/70\n",
      " - 8s - loss: 3.7520 - acc: 0.2155\n",
      "Epoch 23/70\n",
      " - 8s - loss: 3.5970 - acc: 0.2360\n",
      "Epoch 24/70\n",
      " - 8s - loss: 3.4591 - acc: 0.2534\n",
      "Epoch 25/70\n",
      " - 8s - loss: 3.3130 - acc: 0.2773\n",
      "Epoch 26/70\n",
      " - 8s - loss: 3.1877 - acc: 0.2978\n",
      "Epoch 27/70\n",
      " - 8s - loss: 3.0463 - acc: 0.3234\n",
      "Epoch 28/70\n",
      " - 8s - loss: 2.9124 - acc: 0.3488\n",
      "Epoch 29/70\n",
      " - 8s - loss: 2.7934 - acc: 0.3721\n",
      "Epoch 30/70\n",
      " - 8s - loss: 2.6761 - acc: 0.3925\n",
      "Epoch 31/70\n",
      " - 8s - loss: 2.5636 - acc: 0.4131\n",
      "Epoch 32/70\n",
      " - 8s - loss: 2.4593 - acc: 0.4367\n",
      "Epoch 33/70\n",
      " - 8s - loss: 2.3487 - acc: 0.4587\n",
      "Epoch 34/70\n",
      " - 5s - loss: 2.2457 - acc: 0.4814\n",
      "Epoch 35/70\n",
      " - 4s - loss: 2.1591 - acc: 0.4992\n",
      "Epoch 36/70\n",
      " - 4s - loss: 2.0650 - acc: 0.5172\n",
      "Epoch 37/70\n",
      " - 4s - loss: 1.9854 - acc: 0.5357\n",
      "Epoch 38/70\n",
      " - 4s - loss: 1.8916 - acc: 0.5574\n",
      "Epoch 39/70\n",
      " - 4s - loss: 1.8139 - acc: 0.5754\n",
      "Epoch 40/70\n",
      " - 4s - loss: 1.7449 - acc: 0.5870\n",
      "Epoch 41/70\n",
      " - 4s - loss: 1.6708 - acc: 0.6047\n",
      "Epoch 42/70\n",
      " - 4s - loss: 1.5999 - acc: 0.6212\n",
      "Epoch 43/70\n",
      " - 4s - loss: 1.5456 - acc: 0.6305\n",
      "Epoch 44/70\n",
      " - 5s - loss: 1.4763 - acc: 0.6486\n",
      "Epoch 45/70\n",
      " - 4s - loss: 1.4175 - acc: 0.6608\n",
      "Epoch 46/70\n",
      " - 4s - loss: 1.3565 - acc: 0.6782\n",
      "Epoch 47/70\n",
      " - 4s - loss: 1.2986 - acc: 0.6905\n",
      "Epoch 48/70\n",
      " - 4s - loss: 1.2494 - acc: 0.6996\n",
      "Epoch 49/70\n",
      " - 4s - loss: 1.2060 - acc: 0.7122\n",
      "Epoch 50/70\n",
      " - 4s - loss: 1.1527 - acc: 0.7266\n",
      "Epoch 51/70\n",
      " - 4s - loss: 1.1047 - acc: 0.7358\n",
      "Epoch 52/70\n",
      " - 4s - loss: 1.0526 - acc: 0.7470\n",
      "Epoch 53/70\n",
      " - 4s - loss: 1.0064 - acc: 0.7605\n",
      "Epoch 54/70\n",
      " - 4s - loss: 0.9686 - acc: 0.7697\n",
      "Epoch 55/70\n",
      " - 5s - loss: 0.9237 - acc: 0.7800\n",
      "Epoch 56/70\n",
      " - 4s - loss: 0.8942 - acc: 0.7863\n",
      "Epoch 57/70\n",
      " - 4s - loss: 0.8481 - acc: 0.7981\n",
      "Epoch 58/70\n",
      " - 4s - loss: 0.8092 - acc: 0.8071\n",
      "Epoch 59/70\n",
      " - 4s - loss: 0.7694 - acc: 0.8172\n",
      "Epoch 60/70\n",
      " - 5s - loss: 0.7421 - acc: 0.8218\n",
      "Epoch 61/70\n",
      " - 4s - loss: 0.7076 - acc: 0.8336\n",
      "Epoch 62/70\n",
      " - 5s - loss: 0.6834 - acc: 0.8382\n",
      "Epoch 63/70\n",
      " - 5s - loss: 0.6560 - acc: 0.8454\n",
      "Epoch 64/70\n",
      " - 4s - loss: 0.6076 - acc: 0.8596\n",
      "Epoch 65/70\n",
      " - 4s - loss: 0.5833 - acc: 0.8602\n",
      "Epoch 66/70\n",
      " - 5s - loss: 0.5657 - acc: 0.8658\n",
      "Epoch 67/70\n",
      " - 5s - loss: 0.5350 - acc: 0.8742\n",
      "Epoch 68/70\n",
      " - 5s - loss: 0.5136 - acc: 0.8786\n",
      "Epoch 69/70\n",
      " - 4s - loss: 0.4961 - acc: 0.8844\n",
      "Epoch 70/70\n",
      " - 5s - loss: 0.4793 - acc: 0.8874\n"
     ]
    }
   ],
   "source": [
    "# compile model \n",
    "\n",
    "model.compile(loss = \"categorical_crossentropy\", \n",
    "                        optimizer = \"adam\", \n",
    "                        metrics = [\"acc\"])\n",
    "\n",
    "callback = EarlyStopping(patience = 5)\n",
    "\n",
    "history = model.fit(X, y, \n",
    "                    batch_size = 128, \n",
    "                    epochs = 70, \n",
    "                    callbacks = [callback], \n",
    "                    verbose = 2)"
   ]
  },
  {
   "cell_type": "markdown",
   "metadata": {},
   "source": [
    "#### Let's make some predictions\n",
    "Heck. Yes. "
   ]
  },
  {
   "cell_type": "code",
   "execution_count": 14,
   "metadata": {},
   "outputs": [
    {
     "data": {
      "text/plain": [
       "[1970, 2649, 136, 130]"
      ]
     },
     "execution_count": 14,
     "metadata": {},
     "output_type": "execute_result"
    }
   ],
   "source": [
    "words = [\"wardrobe\", \"creature\", \"beautys\", \"face\"]\n",
    "\n",
    "list(map(lambda word: tokenizer.word_index[word], words))"
   ]
  },
  {
   "cell_type": "code",
   "execution_count": 15,
   "metadata": {},
   "outputs": [],
   "source": [
    "def word_sequence(word_list): \n",
    "    return list(map(lambda word: tokenizer.word_index[word], word_list))"
   ]
  },
  {
   "cell_type": "code",
   "execution_count": 16,
   "metadata": {},
   "outputs": [
    {
     "data": {
      "text/plain": [
       "'of'"
      ]
     },
     "execution_count": 16,
     "metadata": {},
     "output_type": "execute_result"
    }
   ],
   "source": [
    "word_list = [\"the\", \"wardrobe\", \"beautys\", \"creature\"]\n",
    "\n",
    "tokenizer.index_word[model.predict([[word_sequence(word_list)]]).argmax()]"
   ]
  },
  {
   "cell_type": "code",
   "execution_count": 17,
   "metadata": {},
   "outputs": [],
   "source": [
    "def make_a_line(word_list): \n",
    "    input = word_sequence(word_list)\n",
    "    next_word = tokenizer.index_word[model.predict([[input]]).argmax()]\n",
    "    word_list.append(next_word)\n",
    "    \n",
    "    for i in range(len(word_list)):\n",
    "        if word_list[i] == \"newline\": \n",
    "            word_list[i] = \"\\n\"\n",
    "    \n",
    "    line = \" \".join(word_list)\n",
    "    return line"
   ]
  },
  {
   "cell_type": "code",
   "execution_count": 18,
   "metadata": {},
   "outputs": [],
   "source": [
    "def feed_input(line): \n",
    "    tokens = line.split(\" \")\n",
    "    for i in range(len(tokens)): \n",
    "        if tokens[i] == \"\\n\": \n",
    "            tokens[i] = \"newline\"\n",
    "    \n",
    "    return tokens[1:5]"
   ]
  },
  {
   "cell_type": "code",
   "execution_count": 19,
   "metadata": {},
   "outputs": [
    {
     "data": {
      "text/plain": [
       "'thine wardrobe of the eye'"
      ]
     },
     "execution_count": 19,
     "metadata": {},
     "output_type": "execute_result"
    }
   ],
   "source": [
    "make_a_line([\"thine\", \"wardrobe\", \"of\", \"the\"])"
   ]
  },
  {
   "cell_type": "code",
   "execution_count": 20,
   "metadata": {},
   "outputs": [
    {
     "data": {
      "text/plain": [
       "'how hath you made she'"
      ]
     },
     "execution_count": 20,
     "metadata": {},
     "output_type": "execute_result"
    }
   ],
   "source": [
    "make_a_line([\"how\", \"hath\", \"you\", \"made\"])"
   ]
  },
  {
   "cell_type": "code",
   "execution_count": 21,
   "metadata": {},
   "outputs": [
    {
     "data": {
      "text/plain": [
       "'when you are of yore'"
      ]
     },
     "execution_count": 21,
     "metadata": {},
     "output_type": "execute_result"
    }
   ],
   "source": [
    "make_a_line([\"when\", \"you\", \"are\", \"of\"])"
   ]
  },
  {
   "cell_type": "code",
   "execution_count": 22,
   "metadata": {},
   "outputs": [
    {
     "name": "stdout",
     "output_type": "stream",
     "text": [
      "rose whose beauty are gracious\n",
      "gracious and he and lovely\n",
      "away \n",
      " i thou betraying\n",
      "me i do betray \n",
      "\n",
      "my nobler part to my\n",
      "gross bodys treason \n",
      " my\n",
      "soul doth tell my body\n",
      "youth \n",
      " that taught me\n",
      "once with fear to change\n",
      "will water this now \n",
      "\n",
      "my most eyelids is a\n"
     ]
    }
   ],
   "source": [
    "input = [\"a\", \"rose\", \"whose\", \"beauty\"]\n",
    "\n",
    "line1 = make_a_line(input)\n",
    "\n",
    "poem = [line1]\n",
    "\n",
    "for x in range(1, 51): \n",
    "    next_line = make_a_line(feed_input(poem[x - 1]))\n",
    "    poem.append(next_line)\n",
    "    \n",
    "    if x == 1 or x%5 == 0: \n",
    "        print(poem[x])"
   ]
  },
  {
   "cell_type": "code",
   "execution_count": 23,
   "metadata": {},
   "outputs": [],
   "source": [
    "def make_a_poem(input, x):\n",
    "\n",
    "    line1 = make_a_line(input)\n",
    "\n",
    "    poem = [line1]\n",
    "\n",
    "    for y in range(1, x +1): \n",
    "        next_line = make_a_line(feed_input(poem[y - 1]))\n",
    "        poem.append(next_line)\n",
    "\n",
    "        if y == 1 or y%5 == 0: \n",
    "            print(poem[y])"
   ]
  },
  {
   "cell_type": "code",
   "execution_count": 24,
   "metadata": {},
   "outputs": [
    {
     "name": "stdout",
     "output_type": "stream",
     "text": [
      "hope thy head should thee\n",
      "thee call \n",
      " i long\n",
      "essays thou want should yet\n",
      "could but thou knowst they\n",
      "thy estimate \n",
      " the charter\n",
      "of thy worth gives thee\n",
      "releasing \n",
      " my bonds in\n",
      "thee are all determinate \n",
      "\n",
      "for how do i hold\n",
      "thee but such things true\n",
      "evil but thence enough to\n",
      "thy gross graces may his\n",
      "power \n",
      " with me shall\n",
      "nothing worthy with my days\n",
      "should tied than this powerful\n",
      "rich \n",
      " o let not\n",
      "then once before i praise\n"
     ]
    }
   ],
   "source": [
    "input = [\"i\", \"hope\", \"thy\", \"head\"]\n",
    "x = 80\n",
    "\n",
    "make_a_poem(input, x)"
   ]
  },
  {
   "cell_type": "markdown",
   "metadata": {},
   "source": [
    "#### Graphs "
   ]
  },
  {
   "cell_type": "code",
   "execution_count": 25,
   "metadata": {},
   "outputs": [],
   "source": [
    "import matplotlib.pyplot as plt"
   ]
  },
  {
   "cell_type": "code",
   "execution_count": 28,
   "metadata": {},
   "outputs": [],
   "source": [
    "loss = history.history[\"loss\"]\n",
    "acc = history.history[\"acc\"]"
   ]
  },
  {
   "cell_type": "code",
   "execution_count": 33,
   "metadata": {},
   "outputs": [
    {
     "data": {
      "image/png": "[encoded data removed]",
      "text/plain": [
       "<Figure size 864x504 with 1 Axes>"
      ]
     },
     "metadata": {
      "needs_background": "light"
     },
     "output_type": "display_data"
    }
   ],
   "source": [
    "plt.figure(figsize = (12, 7))\n",
    "plt.plot(loss, label = \"Training Loss\")\n",
    "plt.title(\"Loss Over 70 Epochs\")\n",
    "plt.xlabel(\"Epochs\")\n",
    "plt.ylabel(\"Loss\")\n",
    "plt.savefig(\"../plots/good_loss.png\"); "
   ]
  },
  {
   "cell_type": "code",
   "execution_count": 34,
   "metadata": {},
   "outputs": [
    {
     "data": {
      "image/png": "[encoded data removed]",
      "text/plain": [
       "<Figure size 864x504 with 1 Axes>"
      ]
     },
     "metadata": {
      "needs_background": "light"
     },
     "output_type": "display_data"
    }
   ],
   "source": [
    "plt.figure(figsize = (12, 7))\n",
    "plt.plot(acc, label = \"Training Accuracy\")\n",
    "plt.title(\"Accuracy over 70 Epochs\")\n",
    "plt.xlabel(\"Epochs\")\n",
    "plt.ylabel(\"Accuracy\")\n",
    "plt.savefig(\"../plots/good_acc.png\"); "
   ]
  },
  {
   "cell_type": "code",
   "execution_count": null,
   "metadata": {},
   "outputs": [],
   "source": []
  }
 ],
 "metadata": {
  "kernelspec": {
   "display_name": "Python 3",
   "language": "python",
   "name": "python3"
  },
  "language_info": {
   "codemirror_mode": {
    "name": "ipython",
    "version": 3
   },
   "file_extension": ".py",
   "mimetype": "text/x-python",
   "name": "python",
   "nbconvert_exporter": "python",
   "pygments_lexer": "ipython3",
   "version": "3.7.4"
  }
 },
 "nbformat": 4,
 "nbformat_minor": 2
}
