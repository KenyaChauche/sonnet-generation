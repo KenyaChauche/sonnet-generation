{
 "cells": [
  {
   "cell_type": "markdown",
   "metadata": {},
   "source": [
    "## Modeling Again\n",
    "Because the first round was disastrous. "
   ]
  },
  {
   "cell_type": "markdown",
   "metadata": {},
   "source": [
    "#### Imports "
   ]
  },
  {
   "cell_type": "code",
   "execution_count": 119,
   "metadata": {},
   "outputs": [],
   "source": [
    "import pandas as pd\n",
    "import string\n",
    "import re\n",
    "import numpy\n",
    "\n",
    "from keras.models import Sequential\n",
    "from keras.layers import Embedding, LSTM, Dense\n",
    "from keras.callbacks import EarlyStopping\n",
    "from keras.preprocessing.text import Tokenizer\n",
    "from keras.utils import to_categorical"
   ]
  },
  {
   "cell_type": "code",
   "execution_count": 2,
   "metadata": {},
   "outputs": [],
   "source": [
    "lines = pd.read_csv(\"../data/lines.csv\")"
   ]
  },
  {
   "cell_type": "markdown",
   "metadata": {},
   "source": [
    "#### Cleaning and Conglomerating Data "
   ]
  },
  {
   "cell_type": "code",
   "execution_count": 165,
   "metadata": {},
   "outputs": [],
   "source": [
    "lines_list = list(lines[\"line\"])"
   ]
  },
  {
   "cell_type": "code",
   "execution_count": 166,
   "metadata": {},
   "outputs": [],
   "source": [
    "text = \" newline \".join(lines_list)"
   ]
  },
  {
   "cell_type": "code",
   "execution_count": 167,
   "metadata": {},
   "outputs": [],
   "source": [
    "# strip -'s and other puncuation\n",
    "# capture only words, and lowercase all of them for simplicity in vocabulary of model \n",
    "\n",
    "text = text.replace(\"-\", \" \")\n",
    "text = text.replace(\"'\", \"\")\n",
    "\n",
    "tokens = re.findall(r\"\\w+\", text)\n",
    "\n",
    "tokens = [word.lower() for word in tokens]\n",
    "\n",
    "# keep newlines in -- attempt to train model for when to create new lines \n",
    "# for i in range(len(tokens)):  \n",
    "#     if tokens[i] == \"newline\": \n",
    "#         tokens[i] = \"\\n\" \n",
    "\n",
    "word_count = len(tokens)\n",
    "unique_words = len(set(tokens))"
   ]
  },
  {
   "cell_type": "code",
   "execution_count": 168,
   "metadata": {},
   "outputs": [],
   "source": [
    "length = 4 + 1\n",
    "\n",
    "sequences = list()\n",
    "for i in range(length, word_count): \n",
    "    seq = tokens[i - length : i]\n",
    "    line = \" \".join(seq)\n",
    "    sequences.append(line)"
   ]
  },
  {
   "cell_type": "code",
   "execution_count": 169,
   "metadata": {},
   "outputs": [
    {
     "data": {
      "text/plain": [
       "['from fairest creatures we desire',\n",
       " 'fairest creatures we desire increase',\n",
       " 'creatures we desire increase newline',\n",
       " 'we desire increase newline that',\n",
       " 'desire increase newline that thereby']"
      ]
     },
     "execution_count": 169,
     "metadata": {},
     "output_type": "execute_result"
    }
   ],
   "source": [
    "sequences[:5]"
   ]
  },
  {
   "cell_type": "markdown",
   "metadata": {},
   "source": [
    "#### Formatting Data "
   ]
  },
  {
   "cell_type": "code",
   "execution_count": 170,
   "metadata": {},
   "outputs": [],
   "source": [
    "tokenizer = Tokenizer()\n",
    "\n",
    "tokenizer.fit_on_texts(sequences)\n",
    "\n",
    "seqs_tokenizer = tokenizer.texts_to_sequences(sequences)"
   ]
  },
  {
   "cell_type": "code",
   "execution_count": 171,
   "metadata": {},
   "outputs": [
    {
     "data": {
      "text/plain": [
       "[[35, 513, 1367, 180, 217],\n",
       " [513, 1367, 180, 217, 515],\n",
       " [1367, 180, 217, 515, 1],\n",
       " [180, 217, 515, 1, 9],\n",
       " [217, 515, 1, 9, 873]]"
      ]
     },
     "execution_count": 171,
     "metadata": {},
     "output_type": "execute_result"
    }
   ],
   "source": [
    "seqs_tokenizer[:5]"
   ]
  },
  {
   "cell_type": "code",
   "execution_count": 172,
   "metadata": {},
   "outputs": [
    {
     "data": {
      "text/plain": [
       "3149"
      ]
     },
     "execution_count": 172,
     "metadata": {},
     "output_type": "execute_result"
    }
   ],
   "source": [
    "vocab_size = len(tokenizer.word_index) + 1\n",
    "vocab_size"
   ]
  },
  {
   "cell_type": "code",
   "execution_count": 178,
   "metadata": {},
   "outputs": [
    {
     "data": {
      "text/plain": [
       "4"
      ]
     },
     "execution_count": 178,
     "metadata": {},
     "output_type": "execute_result"
    }
   ],
   "source": [
    "# separate sequences into input (four word seq) and output (following word)\n",
    "\n",
    "seqs_arr = array(seqs_tokenizer)\n",
    "\n",
    "# changed some grammar to make it work \n",
    "X = seqs_arr[:, :-1]\n",
    "y = seqs_arr[:, -1]\n",
    "\n",
    "y = to_categorical(y, num_classes = vocab_size)\n",
    "\n",
    "seq_length = len(X[0])\n",
    "seq_length"
   ]
  },
  {
   "cell_type": "markdown",
   "metadata": {},
   "source": [
    "#### Modeling"
   ]
  },
  {
   "cell_type": "code",
   "execution_count": 179,
   "metadata": {},
   "outputs": [
    {
     "name": "stdout",
     "output_type": "stream",
     "text": [
      "Model: \"sequential_3\"\n",
      "_________________________________________________________________\n",
      "Layer (type)                 Output Shape              Param #   \n",
      "=================================================================\n",
      "embedding_2 (Embedding)      (None, 4, 100)            314900    \n",
      "_________________________________________________________________\n",
      "lstm_3 (LSTM)                (None, 4, 128)            117248    \n",
      "_________________________________________________________________\n",
      "lstm_4 (LSTM)                (None, 128)               131584    \n",
      "_________________________________________________________________\n",
      "dense_3 (Dense)              (None, 128)               16512     \n",
      "_________________________________________________________________\n",
      "dense_4 (Dense)              (None, 3149)              406221    \n",
      "=================================================================\n",
      "Total params: 986,465\n",
      "Trainable params: 986,465\n",
      "Non-trainable params: 0\n",
      "_________________________________________________________________\n"
     ]
    }
   ],
   "source": [
    "# create model \n",
    "\n",
    "model =  Sequential()\n",
    "\n",
    "model.add(Embedding(vocab_size, \n",
    "                    100, \n",
    "                    input_length = seq_length))\n",
    "model.add(LSTM(128, return_sequences = True))\n",
    "model.add(LSTM(128))\n",
    "model.add(Dense(128, \n",
    "                activation = \"relu\"))\n",
    "model.add(Dense(vocab_size, \n",
    "                activation = \"softmax\"))\n",
    "\n",
    "model.summary()"
   ]
  },
  {
   "cell_type": "code",
   "execution_count": 181,
   "metadata": {},
   "outputs": [
    {
     "name": "stderr",
     "output_type": "stream",
     "text": [
      "/opt/anaconda3/lib/python3.7/site-packages/tensorflow_core/python/framework/indexed_slices.py:433: UserWarning: Converting sparse IndexedSlices to a dense Tensor of unknown shape. This may consume a large amount of memory.\n",
      "  \"Converting sparse IndexedSlices to a dense Tensor of unknown shape. \"\n"
     ]
    },
    {
     "name": "stdout",
     "output_type": "stream",
     "text": [
      "Epoch 1/70\n",
      " - 7s - loss: 6.6086 - acc: 0.1081\n",
      "Epoch 2/70\n"
     ]
    },
    {
     "name": "stderr",
     "output_type": "stream",
     "text": [
      "/opt/anaconda3/lib/python3.7/site-packages/keras/callbacks/callbacks.py:846: RuntimeWarning: Early stopping conditioned on metric `val_loss` which is not available. Available metrics are: loss,acc\n",
      "  (self.monitor, ','.join(list(logs.keys()))), RuntimeWarning\n"
     ]
    },
    {
     "name": "stdout",
     "output_type": "stream",
     "text": [
      " - 5s - loss: 6.0988 - acc: 0.1091\n",
      "Epoch 3/70\n",
      " - 5s - loss: 6.0647 - acc: 0.1091\n",
      "Epoch 4/70\n",
      " - 6s - loss: 6.0363 - acc: 0.1091\n",
      "Epoch 5/70\n",
      " - 6s - loss: 5.9409 - acc: 0.1092\n",
      "Epoch 6/70\n",
      " - 6s - loss: 5.8135 - acc: 0.1121\n",
      "Epoch 7/70\n",
      " - 5s - loss: 5.6800 - acc: 0.1246\n",
      "Epoch 8/70\n",
      " - 5s - loss: 5.5391 - acc: 0.1300\n",
      "Epoch 9/70\n",
      " - 5s - loss: 5.4051 - acc: 0.1347\n",
      "Epoch 10/70\n",
      " - 5s - loss: 5.2707 - acc: 0.1398\n",
      "Epoch 11/70\n",
      " - 5s - loss: 5.1461 - acc: 0.1431\n",
      "Epoch 12/70\n",
      " - 5s - loss: 5.0360 - acc: 0.1447\n",
      "Epoch 13/70\n",
      " - 6s - loss: 4.9355 - acc: 0.1491\n",
      "Epoch 14/70\n",
      " - 5s - loss: 4.8324 - acc: 0.1530\n",
      "Epoch 15/70\n",
      " - 5s - loss: 4.7265 - acc: 0.1580\n",
      "Epoch 16/70\n",
      " - 5s - loss: 4.6240 - acc: 0.1623\n",
      "Epoch 17/70\n",
      " - 5s - loss: 4.5018 - acc: 0.1678\n",
      "Epoch 18/70\n",
      " - 5s - loss: 4.3752 - acc: 0.1730\n",
      "Epoch 19/70\n",
      " - 6s - loss: 4.2406 - acc: 0.1822\n",
      "Epoch 20/70\n",
      " - 5s - loss: 4.1143 - acc: 0.1900\n",
      "Epoch 21/70\n",
      " - 5s - loss: 3.9729 - acc: 0.2014\n",
      "Epoch 22/70\n",
      " - 5s - loss: 3.8341 - acc: 0.2113\n",
      "Epoch 23/70\n",
      " - 5s - loss: 3.6952 - acc: 0.2247\n",
      "Epoch 24/70\n",
      " - 5s - loss: 3.5536 - acc: 0.2431\n",
      "Epoch 25/70\n",
      " - 5s - loss: 3.4185 - acc: 0.2604\n",
      "Epoch 26/70\n",
      " - 5s - loss: 3.2845 - acc: 0.2825\n",
      "Epoch 27/70\n",
      " - 5s - loss: 3.1596 - acc: 0.3028\n",
      "Epoch 28/70\n",
      " - 5s - loss: 3.0186 - acc: 0.3296\n",
      "Epoch 29/70\n",
      " - 5s - loss: 2.8990 - acc: 0.3516\n",
      "Epoch 30/70\n",
      " - 5s - loss: 2.7774 - acc: 0.3742\n",
      "Epoch 31/70\n",
      " - 5s - loss: 2.6612 - acc: 0.3977\n",
      "Epoch 32/70\n",
      " - 5s - loss: 2.5554 - acc: 0.4157\n",
      "Epoch 33/70\n",
      " - 5s - loss: 2.4508 - acc: 0.4411\n",
      "Epoch 34/70\n",
      " - 5s - loss: 2.3368 - acc: 0.4635\n",
      "Epoch 35/70\n",
      " - 5s - loss: 2.2425 - acc: 0.4809\n",
      "Epoch 36/70\n",
      " - 5s - loss: 2.1570 - acc: 0.5017\n",
      "Epoch 37/70\n",
      " - 5s - loss: 2.0595 - acc: 0.5194\n",
      "Epoch 38/70\n",
      " - 5s - loss: 1.9850 - acc: 0.5363\n",
      "Epoch 39/70\n",
      " - 6s - loss: 1.9132 - acc: 0.5510\n",
      "Epoch 40/70\n",
      " - 6s - loss: 1.8288 - acc: 0.5700\n",
      "Epoch 41/70\n",
      " - 6s - loss: 1.7532 - acc: 0.5879\n",
      "Epoch 42/70\n",
      " - 6s - loss: 1.6875 - acc: 0.5986\n",
      "Epoch 43/70\n",
      " - 6s - loss: 1.6171 - acc: 0.6196\n",
      "Epoch 44/70\n",
      " - 5s - loss: 1.5491 - acc: 0.6352\n",
      "Epoch 45/70\n",
      " - 5s - loss: 1.4882 - acc: 0.6474\n",
      "Epoch 46/70\n",
      " - 5s - loss: 1.4350 - acc: 0.6581\n",
      "Epoch 47/70\n",
      " - 5s - loss: 1.3831 - acc: 0.6685\n",
      "Epoch 48/70\n",
      " - 5s - loss: 1.3379 - acc: 0.6813\n",
      "Epoch 49/70\n",
      " - 5s - loss: 1.2766 - acc: 0.6955\n",
      "Epoch 50/70\n",
      " - 5s - loss: 1.2169 - acc: 0.7090\n",
      "Epoch 51/70\n",
      " - 5s - loss: 1.1821 - acc: 0.7177\n",
      "Epoch 52/70\n",
      " - 5s - loss: 1.1312 - acc: 0.7291\n",
      "Epoch 53/70\n",
      " - 5s - loss: 1.0772 - acc: 0.7442\n",
      "Epoch 54/70\n",
      " - 5s - loss: 1.0363 - acc: 0.7515\n",
      "Epoch 55/70\n",
      " - 5s - loss: 0.9926 - acc: 0.7639\n",
      "Epoch 56/70\n",
      " - 5s - loss: 0.9484 - acc: 0.7769\n",
      "Epoch 57/70\n",
      " - 5s - loss: 0.9095 - acc: 0.7821\n",
      "Epoch 58/70\n",
      " - 5s - loss: 0.8770 - acc: 0.7909\n",
      "Epoch 59/70\n",
      " - 5s - loss: 0.8366 - acc: 0.8026\n",
      "Epoch 60/70\n",
      " - 5s - loss: 0.8016 - acc: 0.8107\n",
      "Epoch 61/70\n",
      " - 5s - loss: 0.7710 - acc: 0.8183\n",
      "Epoch 62/70\n",
      " - 5s - loss: 0.7255 - acc: 0.8271\n",
      "Epoch 63/70\n",
      " - 5s - loss: 0.7061 - acc: 0.8321\n",
      "Epoch 64/70\n",
      " - 5s - loss: 0.6716 - acc: 0.8423\n",
      "Epoch 65/70\n",
      " - 5s - loss: 0.6373 - acc: 0.8480\n",
      "Epoch 66/70\n",
      " - 5s - loss: 0.6077 - acc: 0.8592\n",
      "Epoch 67/70\n",
      " - 5s - loss: 0.5953 - acc: 0.8576\n",
      "Epoch 68/70\n",
      " - 5s - loss: 0.5591 - acc: 0.8709\n",
      "Epoch 69/70\n",
      " - 5s - loss: 0.5308 - acc: 0.8772\n",
      "Epoch 70/70\n",
      " - 5s - loss: 0.5079 - acc: 0.8834\n"
     ]
    },
    {
     "data": {
      "text/plain": [
       "<keras.callbacks.callbacks.History at 0x164a88710>"
      ]
     },
     "execution_count": 181,
     "metadata": {},
     "output_type": "execute_result"
    }
   ],
   "source": [
    "# compile model \n",
    "\n",
    "history = model.compile(loss = \"categorical_crossentropy\", \n",
    "                        optimizer = \"adam\", \n",
    "                        metrics = [\"acc\"])\n",
    "\n",
    "callback = EarlyStopping(patience = 5)\n",
    "\n",
    "model.fit(X, y, \n",
    "          batch_size = 128, \n",
    "          epochs = 70, \n",
    "          callbacks = [callback], \n",
    "          verbose = 2)"
   ]
  },
  {
   "cell_type": "markdown",
   "metadata": {},
   "source": [
    "#### Let's make some predictions\n",
    "Heck. Yes. "
   ]
  },
  {
   "cell_type": "code",
   "execution_count": 189,
   "metadata": {},
   "outputs": [
    {
     "data": {
      "text/plain": [
       "[1970, 2649, 136, 130]"
      ]
     },
     "execution_count": 189,
     "metadata": {},
     "output_type": "execute_result"
    }
   ],
   "source": [
    "words = [\"wardrobe\", \"creature\", \"beautys\", \"face\"]\n",
    "\n",
    "list(map(lambda word: tokenizer.word_index[word], words))"
   ]
  },
  {
   "cell_type": "code",
   "execution_count": 192,
   "metadata": {},
   "outputs": [],
   "source": [
    "def word_sequence(word_list): \n",
    "    return list(map(lambda word: tokenizer.word_index[word], word_list))"
   ]
  },
  {
   "cell_type": "code",
   "execution_count": 200,
   "metadata": {},
   "outputs": [
    {
     "data": {
      "text/plain": [
       "'of'"
      ]
     },
     "execution_count": 200,
     "metadata": {},
     "output_type": "execute_result"
    }
   ],
   "source": [
    "word_list = [\"the\", \"wardrobe\", \"beautys\", \"creature\"]\n",
    "\n",
    "tokenizer.index_word[model.predict([[word_sequence(word_list)]]).argmax()]"
   ]
  },
  {
   "cell_type": "code",
   "execution_count": 213,
   "metadata": {},
   "outputs": [],
   "source": [
    "def make_a_line(word_list): \n",
    "    input = word_sequence(word_list)\n",
    "    next_word = tokenizer.index_word[model.predict([[input]]).argmax()]\n",
    "    word_list.append(next_word)\n",
    "    \n",
    "    for i in range(len(word_list)):\n",
    "        if word_list[i] == \"newline\": \n",
    "            word_list[i] = \"\\n\"\n",
    "    \n",
    "    line = \" \".join(word_list)\n",
    "    return line"
   ]
  },
  {
   "cell_type": "code",
   "execution_count": 218,
   "metadata": {},
   "outputs": [],
   "source": [
    "def feed_input(line): \n",
    "    tokens = line.split(\" \")\n",
    "    for i in range(len(tokens)): \n",
    "        if tokens[i] == \"\\n\": \n",
    "            tokens[i] = \"newline\"\n",
    "    \n",
    "    return tokens[1:5]"
   ]
  },
  {
   "cell_type": "code",
   "execution_count": 232,
   "metadata": {},
   "outputs": [
    {
     "data": {
      "text/plain": [
       "'thine wardrobe of the heart'"
      ]
     },
     "execution_count": 232,
     "metadata": {},
     "output_type": "execute_result"
    }
   ],
   "source": [
    "make_a_line([\"thine\", \"wardrobe\", \"of\", \"the\"])"
   ]
  },
  {
   "cell_type": "code",
   "execution_count": 231,
   "metadata": {},
   "outputs": [
    {
     "data": {
      "text/plain": [
       "'how hath you made disgrace'"
      ]
     },
     "execution_count": 231,
     "metadata": {},
     "output_type": "execute_result"
    }
   ],
   "source": [
    "make_a_line([\"how\", \"hath\", \"you\", \"made\"])"
   ]
  },
  {
   "cell_type": "code",
   "execution_count": 237,
   "metadata": {},
   "outputs": [
    {
     "data": {
      "text/plain": [
       "'when you are of one'"
      ]
     },
     "execution_count": 237,
     "metadata": {},
     "output_type": "execute_result"
    }
   ],
   "source": [
    "make_a_line([\"when\", \"you\", \"are\", \"of\"])"
   ]
  },
  {
   "cell_type": "code",
   "execution_count": 223,
   "metadata": {},
   "outputs": [
    {
     "name": "stdout",
     "output_type": "stream",
     "text": [
      "rose whose beauty yea i\n",
      "i least wilt \n",
      " and\n",
      "hear that trees makest seek\n",
      "i do of your desire\n",
      "\n",
      " i have shall will\n",
      "my decay \n",
      " within the\n",
      "wise age of him cruel\n",
      "not but new shall wish\n",
      "and say all i love\n",
      "ye \n",
      " that thou your\n",
      "right myself \n",
      " that i\n"
     ]
    }
   ],
   "source": [
    "input = [\"a\", \"rose\", \"whose\", \"beauty\"]\n",
    "\n",
    "line1 = make_a_line(input)\n",
    "\n",
    "poem = [line1]\n",
    "\n",
    "for x in range(1, 51): \n",
    "    next_line = make_a_line(feed_input(poem[x - 1]))\n",
    "    poem.append(next_line)\n",
    "    \n",
    "    if x == 1 or x%5 == 0: \n",
    "        print(poem[x])"
   ]
  },
  {
   "cell_type": "code",
   "execution_count": 228,
   "metadata": {},
   "outputs": [],
   "source": [
    "def make_a_poem(input, x):\n",
    "\n",
    "    line1 = make_a_line(input)\n",
    "\n",
    "    poem = [line1]\n",
    "\n",
    "    for y in range(1, x +1): \n",
    "        next_line = make_a_line(feed_input(poem[y - 1]))\n",
    "        poem.append(next_line)\n",
    "\n",
    "        if y == 1 or y%5 == 0: \n",
    "            print(poem[y])"
   ]
  },
  {
   "cell_type": "code",
   "execution_count": 229,
   "metadata": {},
   "outputs": [
    {
     "name": "stdout",
     "output_type": "stream",
     "text": [
      "hope thy head ere his\n",
      "his eyes doth smother \n",
      "\n",
      "my praise in me \n",
      "\n",
      "but hope and i of\n",
      "change \n",
      " all nimble fresh\n",
      "veins \n",
      " so is those\n",
      "beauty remain \n",
      " take in\n",
      "my loves report \n",
      " how\n",
      "how what summers tears all\n",
      "thy shame say so when\n",
      "darkness having to my mistress\n",
      "esteeming \n",
      " the sad slave\n",
      "from her make to spend\n",
      "\n",
      " than i niggard shall\n",
      "measure should honour from thy\n",
      "memory \n",
      " he time as\n",
      "love prefiguring \n",
      " and for\n"
     ]
    }
   ],
   "source": [
    "input = [\"i\", \"hope\", \"thy\", \"head\"]\n",
    "x = 80\n",
    "\n",
    "make_a_poem(input, x)"
   ]
  },
  {
   "cell_type": "code",
   "execution_count": null,
   "metadata": {},
   "outputs": [],
   "source": []
  },
  {
   "cell_type": "code",
   "execution_count": null,
   "metadata": {},
   "outputs": [],
   "source": []
  }
 ],
 "metadata": {
  "kernelspec": {
   "display_name": "Python 3",
   "language": "python",
   "name": "python3"
  },
  "language_info": {
   "codemirror_mode": {
    "name": "ipython",
    "version": 3
   },
   "file_extension": ".py",
   "mimetype": "text/x-python",
   "name": "python",
   "nbconvert_exporter": "python",
   "pygments_lexer": "ipython3",
   "version": "3.7.4"
  }
 },
 "nbformat": 4,
 "nbformat_minor": 2
}
