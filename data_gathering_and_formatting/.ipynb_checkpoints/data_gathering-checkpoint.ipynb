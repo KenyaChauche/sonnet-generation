{
 "cells": [
  {
   "cell_type": "markdown",
   "metadata": {},
   "source": [
    "## Data Gathering"
   ]
  },
  {
   "cell_type": "markdown",
   "metadata": {},
   "source": [
    "#### Imports"
   ]
  },
  {
   "cell_type": "code",
   "execution_count": 1,
   "metadata": {},
   "outputs": [],
   "source": [
    "import pandas as pd\n",
    "import numpy as np \n",
    "import requests\n",
    "\n",
    "from bs4 import BeautifulSoup\n",
    "\n",
    "\n",
    "source_url = \"http://shakespeare.mit.edu/Poetry/sonnets.html\""
   ]
  },
  {
   "cell_type": "markdown",
   "metadata": {},
   "source": [
    "#### Data Read-In: Gathering links for all of the sonnets"
   ]
  },
  {
   "cell_type": "code",
   "execution_count": 2,
   "metadata": {},
   "outputs": [
    {
     "data": {
      "text/plain": [
       "200"
      ]
     },
     "execution_count": 2,
     "metadata": {},
     "output_type": "execute_result"
    }
   ],
   "source": [
    "response = requests.get(source_url)\n",
    "\n",
    "response.status_code\n",
    "# success"
   ]
  },
  {
   "cell_type": "code",
   "execution_count": 3,
   "metadata": {},
   "outputs": [],
   "source": [
    "soup = BeautifulSoup(response.content, \"html.parser\")\n",
    "\n",
    "unformatted_a = list(soup.find_all('a'))\n",
    "\n",
    "base_url = \"http://shakespeare.mit.edu/Poetry/\"\n",
    "\n",
    "links = []\n",
    "\n",
    "for a in unformatted_a: \n",
    "    link_tail = a.get('href')\n",
    "    links.append(base_url + link_tail)"
   ]
  },
  {
   "cell_type": "code",
   "execution_count": 4,
   "metadata": {},
   "outputs": [],
   "source": [
    "# first link on the page is for a book on amazon\n",
    "# now all links are only for sonnets\n",
    "\n",
    "links.remove(links[0])"
   ]
  },
  {
   "cell_type": "markdown",
   "metadata": {},
   "source": [
    "#### Data Read-In: Scraping each sonnet"
   ]
  },
  {
   "cell_type": "code",
   "execution_count": 5,
   "metadata": {},
   "outputs": [],
   "source": [
    "soup2 = BeautifulSoup(requests.get(links[0]).content, \"lxml\")"
   ]
  },
  {
   "cell_type": "code",
   "execution_count": 6,
   "metadata": {},
   "outputs": [],
   "source": [
    "couplets = {\"title\": [], \"couplet number\": [], \"couplet\": []}\n"
   ]
  },
  {
   "cell_type": "code",
   "execution_count": 7,
   "metadata": {},
   "outputs": [],
   "source": [
    "for link in links: \n",
    "    soup = BeautifulSoup(requests.get(link).content, \"lxml\")\n",
    "    title = soup.find(\"h1\").text\n",
    "    sonnet = soup.find(\"blockquote\").text.split(\"\\n\")\n",
    "    \n",
    "    for line in range(0, (len(sonnet) - 1), 2): \n",
    "        couplets[\"title\"].append(title)\n",
    "        couplets[\"couplet number\"].append(int(line/2))\n",
    "        couplets[\"couplet\"].append(sonnet[line] + \"/\" + sonnet[line + 1])"
   ]
  },
  {
   "cell_type": "code",
   "execution_count": 8,
   "metadata": {},
   "outputs": [],
   "source": [
    "lines = {\"title\": [], \"line number\": [], \"line\": []}"
   ]
  },
  {
   "cell_type": "code",
   "execution_count": 9,
   "metadata": {},
   "outputs": [],
   "source": [
    "for link in links: \n",
    "    soup = BeautifulSoup(requests.get(link).content, \"lxml\")\n",
    "    title = soup.find(\"h1\").text\n",
    "    sonnet = soup.find(\"blockquote\").text.split(\"\\n\")\n",
    "    \n",
    "    for line in range(0, (len(sonnet) - 1), 1): \n",
    "        lines[\"title\"].append(title)\n",
    "        lines[\"line number\"].append(int(line))\n",
    "        lines[\"line\"].append(sonnet[line])"
   ]
  },
  {
   "cell_type": "markdown",
   "metadata": {},
   "source": [
    "#### Data Formatting: Making a dataframe"
   ]
  },
  {
   "cell_type": "code",
   "execution_count": 10,
   "metadata": {},
   "outputs": [],
   "source": [
    "couplets_df = pd.DataFrame(couplets)"
   ]
  },
  {
   "cell_type": "code",
   "execution_count": 11,
   "metadata": {},
   "outputs": [],
   "source": [
    "lines_df = pd.DataFrame(lines)"
   ]
  },
  {
   "cell_type": "code",
   "execution_count": 15,
   "metadata": {},
   "outputs": [],
   "source": [
    "couplets_df.to_csv(\"./data/couplets.csv\", index = False)\n",
    "\n",
    "lines_df.to_csv(\"./data/lines.csv\", index = False)"
   ]
  },
  {
   "cell_type": "code",
   "execution_count": null,
   "metadata": {},
   "outputs": [],
   "source": []
  }
 ],
 "metadata": {
  "kernelspec": {
   "display_name": "Python 3",
   "language": "python",
   "name": "python3"
  },
  "language_info": {
   "codemirror_mode": {
    "name": "ipython",
    "version": 3
   },
   "file_extension": ".py",
   "mimetype": "text/x-python",
   "name": "python",
   "nbconvert_exporter": "python",
   "pygments_lexer": "ipython3",
   "version": "3.7.4"
  }
 },
 "nbformat": 4,
 "nbformat_minor": 2
}
